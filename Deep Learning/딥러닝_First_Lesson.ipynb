{
 "cells": [
  {
   "cell_type": "markdown",
   "metadata": {},
   "source": [
    "## 처음 해보는 딥러닝\n",
    "\n",
    "### 관리자 모드로 cmd 실행 \n",
    "- pip install -upgrade setuptools\n",
    "- pip install tensorflow\n",
    "- pip install keras"
   ]
  },
  {
   "cell_type": "markdown",
   "metadata": {},
   "source": [
    "###  폐암 수술 환자의 생존율 데이터 분석"
   ]
  },
  {
   "cell_type": "code",
   "execution_count": 9,
   "metadata": {},
   "outputs": [],
   "source": [
    "#필요한 라이브러리\n",
    "import numpy as np\n",
    "import tensorflow as tf\n",
    "if type(tf.contrib != type(tf)): \n",
    "    tf.contrib._waring = None"
   ]
  },
  {
   "cell_type": "code",
   "execution_count": 3,
   "metadata": {},
   "outputs": [
    {
     "name": "stdout",
     "output_type": "stream",
     "text": [
      "1.14.0\n"
     ]
    }
   ],
   "source": [
    "print(tf.__version__)"
   ]
  },
  {
   "cell_type": "code",
   "execution_count": 4,
   "metadata": {},
   "outputs": [],
   "source": [
    "#딥러닝을 구동하는데 필요한 케라스 패키지 임포트\n",
    "from keras.models import Sequential \n",
    "from keras.layers import Dense"
   ]
  },
  {
   "cell_type": "code",
   "execution_count": 5,
   "metadata": {},
   "outputs": [],
   "source": [
    "# 실행할 때마다 같은 결과를 출력하기 위해 설정\n",
    "seed = 0\n",
    "np.random.seed(seed)\n",
    "tf.set_random_seed(seed)"
   ]
  },
  {
   "cell_type": "code",
   "execution_count": 6,
   "metadata": {},
   "outputs": [
    {
     "data": {
      "text/plain": [
       "array([[293.  ,   1.  ,   3.8 , ...,   0.  ,  62.  ,   0.  ],\n",
       "       [  1.  ,   2.  ,   2.88, ...,   0.  ,  60.  ,   0.  ],\n",
       "       [  8.  ,   2.  ,   3.19, ...,   0.  ,  66.  ,   1.  ],\n",
       "       ...,\n",
       "       [406.  ,   6.  ,   5.36, ...,   0.  ,  62.  ,   0.  ],\n",
       "       [ 25.  ,   8.  ,   4.32, ...,   0.  ,  58.  ,   1.  ],\n",
       "       [447.  ,   8.  ,   5.2 , ...,   0.  ,  49.  ,   0.  ]])"
      ]
     },
     "execution_count": 6,
     "metadata": {},
     "output_type": "execute_result"
    }
   ],
   "source": [
    "# 준비된 수술 환자 데이터를 불러들임\n",
    "Data_set = np.loadtxt(\"Deep_Learning/dataset/ThoraricSurgery.csv\", delimiter = \",\")\n",
    "Data_set"
   ]
  },
  {
   "cell_type": "code",
   "execution_count": 7,
   "metadata": {},
   "outputs": [],
   "source": [
    "#환자의 기록과 수술 결과를 X와 Y로 구분하여 저장 \n",
    "X = Data_set[:,0:17]\n",
    "Y = Data_set[:,17]"
   ]
  },
  {
   "cell_type": "code",
   "execution_count": 10,
   "metadata": {},
   "outputs": [],
   "source": [
    "# 딥러닝 구조를 결정(모델을 설정하고 실행하는 부분)\n",
    "model = Sequential()\n",
    "model.add(Dense(30, input_dim = 17, activation = 'relu'))\n",
    "model.add(Dense(1, activation='sigmoid'))"
   ]
  },
  {
   "cell_type": "code",
   "execution_count": 11,
   "metadata": {},
   "outputs": [
    {
     "name": "stderr",
     "output_type": "stream",
     "text": [
      "W0807 10:28:54.336238 10500 deprecation_wrapper.py:119] From C:\\ProgramData\\Anaconda3\\lib\\site-packages\\keras\\optimizers.py:790: The name tf.train.Optimizer is deprecated. Please use tf.compat.v1.train.Optimizer instead.\n",
      "\n",
      "W0807 10:28:54.449244 10500 deprecation_wrapper.py:119] From C:\\ProgramData\\Anaconda3\\lib\\site-packages\\keras\\backend\\tensorflow_backend.py:986: The name tf.assign_add is deprecated. Please use tf.compat.v1.assign_add instead.\n",
      "\n",
      "W0807 10:28:54.498247 10500 deprecation_wrapper.py:119] From C:\\ProgramData\\Anaconda3\\lib\\site-packages\\keras\\backend\\tensorflow_backend.py:973: The name tf.assign is deprecated. Please use tf.compat.v1.assign instead.\n",
      "\n"
     ]
    },
    {
     "name": "stdout",
     "output_type": "stream",
     "text": [
      "Epoch 1/30\n",
      "470/470 [==============================] - 0s 315us/step - loss: 0.6208 - acc: 0.3468\n",
      "Epoch 2/30\n",
      "470/470 [==============================] - 0s 47us/step - loss: 0.1470 - acc: 0.8511\n",
      "Epoch 3/30\n",
      "470/470 [==============================] - 0s 55us/step - loss: 0.1463 - acc: 0.8511\n",
      "Epoch 4/30\n",
      "470/470 [==============================] - 0s 53us/step - loss: 0.1465 - acc: 0.8511\n",
      "Epoch 5/30\n",
      "470/470 [==============================] - 0s 49us/step - loss: 0.1462 - acc: 0.8511\n",
      "Epoch 6/30\n",
      "470/470 [==============================] - 0s 53us/step - loss: 0.1461 - acc: 0.8511\n",
      "Epoch 7/30\n",
      "470/470 [==============================] - 0s 49us/step - loss: 0.1459 - acc: 0.8511\n",
      "Epoch 8/30\n",
      "470/470 [==============================] - 0s 47us/step - loss: 0.1457 - acc: 0.8511\n",
      "Epoch 9/30\n",
      "470/470 [==============================] - 0s 51us/step - loss: 0.1458 - acc: 0.8489\n",
      "Epoch 10/30\n",
      "470/470 [==============================] - 0s 49us/step - loss: 0.1449 - acc: 0.8511\n",
      "Epoch 11/30\n",
      "470/470 [==============================] - 0s 51us/step - loss: 0.1441 - acc: 0.8511\n",
      "Epoch 12/30\n",
      "470/470 [==============================] - 0s 47us/step - loss: 0.1444 - acc: 0.8511\n",
      "Epoch 13/30\n",
      "470/470 [==============================] - 0s 51us/step - loss: 0.1442 - acc: 0.8511\n",
      "Epoch 14/30\n",
      "470/470 [==============================] - 0s 47us/step - loss: 0.1438 - acc: 0.8511\n",
      "Epoch 15/30\n",
      "470/470 [==============================] - 0s 49us/step - loss: 0.1435 - acc: 0.8511\n",
      "Epoch 16/30\n",
      "470/470 [==============================] - 0s 47us/step - loss: 0.1436 - acc: 0.8511\n",
      "Epoch 17/30\n",
      "470/470 [==============================] - 0s 47us/step - loss: 0.1439 - acc: 0.8511\n",
      "Epoch 18/30\n",
      "470/470 [==============================] - 0s 47us/step - loss: 0.1441 - acc: 0.8511\n",
      "Epoch 19/30\n",
      "470/470 [==============================] - 0s 47us/step - loss: 0.1446 - acc: 0.8511\n",
      "Epoch 20/30\n",
      "470/470 [==============================] - 0s 49us/step - loss: 0.1435 - acc: 0.8511\n",
      "Epoch 21/30\n",
      "470/470 [==============================] - 0s 47us/step - loss: 0.1439 - acc: 0.8511\n",
      "Epoch 22/30\n",
      "470/470 [==============================] - 0s 49us/step - loss: 0.1426 - acc: 0.8511\n",
      "Epoch 23/30\n",
      "470/470 [==============================] - 0s 47us/step - loss: 0.1428 - acc: 0.8553\n",
      "Epoch 24/30\n",
      "470/470 [==============================] - 0s 47us/step - loss: 0.1468 - acc: 0.8511\n",
      "Epoch 25/30\n",
      "470/470 [==============================] - 0s 47us/step - loss: 0.1453 - acc: 0.8511\n",
      "Epoch 26/30\n",
      "470/470 [==============================] - 0s 49us/step - loss: 0.1445 - acc: 0.8511\n",
      "Epoch 27/30\n",
      "470/470 [==============================] - 0s 47us/step - loss: 0.1443 - acc: 0.8511\n",
      "Epoch 28/30\n",
      "470/470 [==============================] - 0s 49us/step - loss: 0.1438 - acc: 0.8511\n",
      "Epoch 29/30\n",
      "470/470 [==============================] - 0s 49us/step - loss: 0.1441 - acc: 0.8511\n",
      "Epoch 30/30\n",
      "470/470 [==============================] - 0s 53us/step - loss: 0.1433 - acc: 0.8511\n"
     ]
    },
    {
     "data": {
      "text/plain": [
       "<keras.callbacks.History at 0xf431128>"
      ]
     },
     "execution_count": 11,
     "metadata": {},
     "output_type": "execute_result"
    }
   ],
   "source": [
    "#딥러닝을 실행\n",
    "model.compile(loss = 'mean_squared_error', optimizer = 'adam',\n",
    "             metrics = ['accuracy'])\n",
    "model.fit(X,Y, epochs=30, batch_size = 10)\n"
   ]
  },
  {
   "cell_type": "code",
   "execution_count": 13,
   "metadata": {},
   "outputs": [
    {
     "name": "stdout",
     "output_type": "stream",
     "text": [
      "470/470 [==============================] - 0s 45us/step\n",
      "\n",
      " Accuracy: 0.8511\n"
     ]
    }
   ],
   "source": [
    "#결과를 출력합니다. \n",
    "print(\"\\n Accuracy: %.4f\" % (model.evaluate(X, Y)[1]))"
   ]
  }
 ],
 "metadata": {
  "kernelspec": {
   "display_name": "Python 3",
   "language": "python",
   "name": "python3"
  },
  "language_info": {
   "codemirror_mode": {
    "name": "ipython",
    "version": 3
   },
   "file_extension": ".py",
   "mimetype": "text/x-python",
   "name": "python",
   "nbconvert_exporter": "python",
   "pygments_lexer": "ipython3",
   "version": "3.7.3"
  }
 },
 "nbformat": 4,
 "nbformat_minor": 2
}
