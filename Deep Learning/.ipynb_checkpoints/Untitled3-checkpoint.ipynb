{
 "cells": [
  {
   "cell_type": "markdown",
   "metadata": {},
   "source": [
    "# Indecisive Person's Helper Tool"
   ]
  },
  {
   "cell_type": "code",
   "execution_count": 1,
   "metadata": {},
   "outputs": [],
   "source": [
    "import random as rm"
   ]
  },
  {
   "cell_type": "code",
   "execution_count": null,
   "metadata": {},
   "outputs": [],
   "source": [
    "choices = []\n",
    "num = int(input(\"How many options do you have? \"))\n",
    "if num <= 0 : \n",
    "    print(\"Please enter valid number\")\n",
    "else: \n",
    "    for i in range(num):\n",
    "        choices.append(input(\"Enter one of the the options you are deciding from: \")) \n",
    "    print(\"The decision has been made.\")\n",
    "    print(\"your deicions is: \", str(choices[int(rm.uniform(0,num))]))\n",
    "    answer = input(\"Are you happy with you choice? (Y/N) \")\n",
    "    if answer == \"y\"  : \n",
    "        print(\"Great, goodbye indecisive one.\")\n",
    "    elif answer == \"n\" : \n",
    "        print(\"Run the program again\")\n",
    "    "
   ]
  },
  {
   "cell_type": "code",
   "execution_count": null,
   "metadata": {},
   "outputs": [],
   "source": [
    "choices[int(rm.uniform(0,3))]"
   ]
  },
  {
   "cell_type": "code",
   "execution_count": null,
   "metadata": {},
   "outputs": [],
   "source": []
  }
 ],
 "metadata": {
  "kernelspec": {
   "display_name": "Python 3",
   "language": "python",
   "name": "python3"
  },
  "language_info": {
   "codemirror_mode": {
    "name": "ipython",
    "version": 3
   },
   "file_extension": ".py",
   "mimetype": "text/x-python",
   "name": "python",
   "nbconvert_exporter": "python",
   "pygments_lexer": "ipython3",
   "version": "3.7.3"
  }
 },
 "nbformat": 4,
 "nbformat_minor": 2
}
