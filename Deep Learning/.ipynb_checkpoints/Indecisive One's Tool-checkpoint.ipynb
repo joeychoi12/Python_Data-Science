{
 "cells": [
  {
   "cell_type": "markdown",
   "metadata": {},
   "source": [
    "# Indecisive Person's Helper Tool"
   ]
  },
  {
   "cell_type": "code",
   "execution_count": 1,
   "metadata": {},
   "outputs": [],
   "source": [
    "import random as rm"
   ]
  },
  {
   "cell_type": "code",
   "execution_count": 10,
   "metadata": {},
   "outputs": [
    {
     "name": "stdout",
     "output_type": "stream",
     "text": [
      "How many options do you have? 3\n",
      "Enter one of the the options you are deciding from: Ice Cream\n",
      "Enter one of the the options you are deciding from: Pizza \n",
      "Enter one of the the options you are deciding from: Chocolate\n",
      "The decision has been made.\n",
      "your deicions is:  Chocolate\n",
      "Are you happy with you choice? (Y/N) n\n",
      "Run the program again\n",
      "The decision has been made.\n",
      "your deicions is:  Pizza \n",
      "Are you happy with you choice? (Y/N) n\n",
      "Run the program again\n",
      "The decision has been made.\n"
     ]
    },
    {
     "ename": "IndexError",
     "evalue": "list index out of range",
     "output_type": "error",
     "traceback": [
      "\u001b[1;31m---------------------------------------------------------------------------\u001b[0m",
      "\u001b[1;31mIndexError\u001b[0m                                Traceback (most recent call last)",
      "\u001b[1;32m<ipython-input-10-9c95c16ee32f>\u001b[0m in \u001b[0;36m<module>\u001b[1;34m\u001b[0m\n\u001b[0;32m     10\u001b[0m         \u001b[0mprint\u001b[0m\u001b[1;33m(\u001b[0m\u001b[1;34m\"The decision has been made.\"\u001b[0m\u001b[1;33m)\u001b[0m\u001b[1;33m\u001b[0m\u001b[1;33m\u001b[0m\u001b[0m\n\u001b[0;32m     11\u001b[0m         \u001b[0mrandnum\u001b[0m \u001b[1;33m=\u001b[0m \u001b[0mrm\u001b[0m\u001b[1;33m.\u001b[0m\u001b[0muniform\u001b[0m\u001b[1;33m(\u001b[0m\u001b[1;36m0\u001b[0m\u001b[1;33m,\u001b[0m\u001b[0mnum\u001b[0m\u001b[1;33m)\u001b[0m\u001b[1;33m\u001b[0m\u001b[1;33m\u001b[0m\u001b[0m\n\u001b[1;32m---> 12\u001b[1;33m         \u001b[0mprint\u001b[0m\u001b[1;33m(\u001b[0m\u001b[1;34m\"your deicions is: \"\u001b[0m\u001b[1;33m,\u001b[0m \u001b[0mstr\u001b[0m\u001b[1;33m(\u001b[0m\u001b[0mchoices\u001b[0m\u001b[1;33m[\u001b[0m\u001b[0mint\u001b[0m\u001b[1;33m(\u001b[0m\u001b[0mrandnum\u001b[0m\u001b[1;33m)\u001b[0m\u001b[1;33m]\u001b[0m\u001b[1;33m)\u001b[0m\u001b[1;33m)\u001b[0m\u001b[1;33m\u001b[0m\u001b[1;33m\u001b[0m\u001b[0m\n\u001b[0m\u001b[0;32m     13\u001b[0m         \u001b[0manswer\u001b[0m \u001b[1;33m=\u001b[0m \u001b[0minput\u001b[0m\u001b[1;33m(\u001b[0m\u001b[1;34m\"Are you happy with you choice? (Y/N) \"\u001b[0m\u001b[1;33m)\u001b[0m\u001b[1;33m\u001b[0m\u001b[1;33m\u001b[0m\u001b[0m\n\u001b[0;32m     14\u001b[0m         \u001b[1;32mif\u001b[0m \u001b[0manswer\u001b[0m \u001b[1;33m==\u001b[0m \u001b[1;34m\"y\"\u001b[0m  \u001b[1;33m:\u001b[0m\u001b[1;33m\u001b[0m\u001b[1;33m\u001b[0m\u001b[0m\n",
      "\u001b[1;31mIndexError\u001b[0m: list index out of range"
     ]
    }
   ],
   "source": [
    "choices = []\n",
    "a = False\n",
    "num = int(input(\"How many options do you have? \"))\n",
    "if num <= 0 : \n",
    "    print(\"Please enter valid number\")\n",
    "else: \n",
    "    for i in range(num):\n",
    "        choices.append(input(\"Enter one of the the options you are deciding from: \")) \n",
    "    while(a == False): \n",
    "        print(\"The decision has been made.\")\n",
    "        randnum = rm.uniform(0,num)\n",
    "        print(\"your deicions is: \", str(choices[int(randnum)]))\n",
    "        answer = input(\"Are you happy with you choice? (Y/N) \")\n",
    "        if answer == \"y\"  : \n",
    "            print(\"Great, goodbye indecisive one.\")\n",
    "            a = True\n",
    "        elif answer == \"n\" : \n",
    "            print(\"Run the program again\")\n",
    "            del choices[int(randnum)]\n",
    "    "
   ]
  },
  {
   "cell_type": "code",
   "execution_count": null,
   "metadata": {},
   "outputs": [],
   "source": [
    "choices[int(rm.uniform(0,3))]"
   ]
  }
 ],
 "metadata": {
  "kernelspec": {
   "display_name": "Python 3",
   "language": "python",
   "name": "python3"
  },
  "language_info": {
   "codemirror_mode": {
    "name": "ipython",
    "version": 3
   },
   "file_extension": ".py",
   "mimetype": "text/x-python",
   "name": "python",
   "nbconvert_exporter": "python",
   "pygments_lexer": "ipython3",
   "version": "3.7.3"
  }
 },
 "nbformat": 4,
 "nbformat_minor": 2
}
