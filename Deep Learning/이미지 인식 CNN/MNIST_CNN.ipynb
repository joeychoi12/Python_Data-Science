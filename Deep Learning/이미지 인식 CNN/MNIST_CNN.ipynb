{
 "cells": [
  {
   "cell_type": "markdown",
   "metadata": {},
   "source": [
    "# 이미지 인식 - CNN \n",
    "## MNIST 사례 "
   ]
  },
  {
   "cell_type": "code",
   "execution_count": 6,
   "metadata": {},
   "outputs": [],
   "source": [
    "from keras.datasets import mnist\n",
    "from keras.utils import np_utils \n",
    "from keras.models import Sequential \n",
    "from keras.layers import Dense, Dropout, Flatten, Conv2D, MaxPooling2D\n",
    "from keras.callbacks import ModelCheckpoint, EarlyStopping \n",
    "\n",
    "import matplotlib.pyplot as plt\n",
    "import numpy as np\n",
    "import os \n",
    "import tensorflow as tf"
   ]
  },
  {
   "cell_type": "code",
   "execution_count": 3,
   "metadata": {},
   "outputs": [],
   "source": [
    "#seed 값 설정 \n",
    "seed = 0 \n",
    "np.random.seed(seed)\n",
    "tf.set_random_seed(seed)"
   ]
  },
  {
   "cell_type": "code",
   "execution_count": 9,
   "metadata": {},
   "outputs": [],
   "source": [
    "#MNIST 데이터 불러오기 \n",
    "(X_train , Y_train), (X_test, Y_test) = mnist.load_data()\n",
    "X_train = X_train.reshape(X_train.shape[0], 28, 28, 1).astype('float32') / 255\n",
    "X_test = X_test.reshape(X_test.shape[0], 28, 28, 1).astype('float32') / 255\n",
    "Y_train = np_utils.to_categorical(Y_train)\n",
    "Y_test = np_utils.to_categorical(Y_test)"
   ]
  },
  {
   "cell_type": "code",
   "execution_count": 11,
   "metadata": {},
   "outputs": [
    {
     "name": "stderr",
     "output_type": "stream",
     "text": [
      "W0819 11:25:01.998594  5796 deprecation_wrapper.py:119] From C:\\ProgramData\\Anaconda3\\lib\\site-packages\\keras\\backend\\tensorflow_backend.py:3976: The name tf.nn.max_pool is deprecated. Please use tf.nn.max_pool2d instead.\n",
      "\n",
      "W0819 11:25:02.001594  5796 deprecation_wrapper.py:119] From C:\\ProgramData\\Anaconda3\\lib\\site-packages\\keras\\backend\\tensorflow_backend.py:133: The name tf.placeholder_with_default is deprecated. Please use tf.compat.v1.placeholder_with_default instead.\n",
      "\n",
      "W0819 11:25:02.007595  5796 deprecation.py:506] From C:\\ProgramData\\Anaconda3\\lib\\site-packages\\keras\\backend\\tensorflow_backend.py:3445: calling dropout (from tensorflow.python.ops.nn_ops) with keep_prob is deprecated and will be removed in a future version.\n",
      "Instructions for updating:\n",
      "Please use `rate` instead of `keep_prob`. Rate should be set to `rate = 1 - keep_prob`.\n"
     ]
    }
   ],
   "source": [
    "# 컨볼루션 신경망 설정 \n",
    "model = Sequential()\n",
    "model.add(Conv2D(32, kernel_size = (3,3), input_shape = (28, 28, 1), activation = 'relu'))\n",
    "model.add(Conv2D(64, (3,3), activation = 'relu'))\n",
    "model.add(MaxPooling2D(pool_size=2))\n",
    "model.add(Dropout(0.25))\n",
    "model.add(Flatten())\n",
    "model.add(Dense(128, activation = 'relu'))\n",
    "model.add(Dropout(0.5))\n",
    "model.add(Dense(10, activation = 'softmax'))"
   ]
  },
  {
   "cell_type": "code",
   "execution_count": 12,
   "metadata": {},
   "outputs": [
    {
     "name": "stderr",
     "output_type": "stream",
     "text": [
      "W0819 11:25:38.414710  5796 deprecation_wrapper.py:119] From C:\\ProgramData\\Anaconda3\\lib\\site-packages\\keras\\optimizers.py:790: The name tf.train.Optimizer is deprecated. Please use tf.compat.v1.train.Optimizer instead.\n",
      "\n",
      "W0819 11:25:38.468313  5796 deprecation_wrapper.py:119] From C:\\ProgramData\\Anaconda3\\lib\\site-packages\\keras\\backend\\tensorflow_backend.py:3295: The name tf.log is deprecated. Please use tf.math.log instead.\n",
      "\n"
     ]
    }
   ],
   "source": [
    "model.compile(loss='categorical_crossentropy',\n",
    "             optimizer = 'adam',\n",
    "             metrics = ['accuracy'])\n",
    "\n"
   ]
  },
  {
   "cell_type": "code",
   "execution_count": 13,
   "metadata": {},
   "outputs": [],
   "source": [
    "#모델 최적화 설정 \n",
    "MODEL_DIR = './model/'\n",
    "if not os.path.exists(MODEL_DIR):\n",
    "    os.mkdir(MODEL_DIR)\n",
    "    \n",
    "modelpath = \"./model/{epoch:02d}-{val_loss:.4f}.hdf5\"\n",
    "checkpointer = ModelCheckpoint(filepath = modelpath, monitor = 'val_loss', verbose = 1, save_best_only = True)\n",
    "early_stopping_callback = EarlyStopping(monitor = 'val_loss', patience = 10)"
   ]
  },
  {
   "cell_type": "code",
   "execution_count": 14,
   "metadata": {},
   "outputs": [
    {
     "name": "stderr",
     "output_type": "stream",
     "text": [
      "W0819 11:26:39.957971  5796 deprecation.py:323] From C:\\ProgramData\\Anaconda3\\lib\\site-packages\\tensorflow\\python\\ops\\math_grad.py:1250: add_dispatch_support.<locals>.wrapper (from tensorflow.python.ops.array_ops) is deprecated and will be removed in a future version.\n",
      "Instructions for updating:\n",
      "Use tf.where in 2.0, which has the same broadcast rule as np.where\n"
     ]
    },
    {
     "name": "stdout",
     "output_type": "stream",
     "text": [
      "\n",
      "Epoch 00001: val_loss improved from inf to 0.05376, saving model to ./model/01-0.0538.hdf5\n",
      "\n",
      "Epoch 00002: val_loss improved from 0.05376 to 0.04183, saving model to ./model/02-0.0418.hdf5\n",
      "\n",
      "Epoch 00003: val_loss improved from 0.04183 to 0.03417, saving model to ./model/03-0.0342.hdf5\n",
      "\n",
      "Epoch 00004: val_loss did not improve from 0.03417\n",
      "\n",
      "Epoch 00005: val_loss did not improve from 0.03417\n",
      "\n",
      "Epoch 00006: val_loss improved from 0.03417 to 0.03109, saving model to ./model/06-0.0311.hdf5\n",
      "\n",
      "Epoch 00007: val_loss did not improve from 0.03109\n",
      "\n",
      "Epoch 00008: val_loss did not improve from 0.03109\n",
      "\n",
      "Epoch 00009: val_loss improved from 0.03109 to 0.03007, saving model to ./model/09-0.0301.hdf5\n",
      "\n",
      "Epoch 00010: val_loss improved from 0.03007 to 0.02861, saving model to ./model/10-0.0286.hdf5\n",
      "\n",
      "Epoch 00011: val_loss did not improve from 0.02861\n",
      "\n",
      "Epoch 00012: val_loss did not improve from 0.02861\n",
      "\n",
      "Epoch 00013: val_loss did not improve from 0.02861\n",
      "\n",
      "Epoch 00014: val_loss did not improve from 0.02861\n",
      "\n",
      "Epoch 00015: val_loss did not improve from 0.02861\n",
      "\n",
      "Epoch 00016: val_loss did not improve from 0.02861\n",
      "\n",
      "Epoch 00017: val_loss did not improve from 0.02861\n",
      "\n",
      "Epoch 00018: val_loss did not improve from 0.02861\n",
      "\n",
      "Epoch 00019: val_loss improved from 0.02861 to 0.02658, saving model to ./model/19-0.0266.hdf5\n",
      "\n",
      "Epoch 00020: val_loss did not improve from 0.02658\n",
      "\n",
      "Epoch 00021: val_loss did not improve from 0.02658\n",
      "\n",
      "Epoch 00022: val_loss did not improve from 0.02658\n",
      "\n",
      "Epoch 00023: val_loss did not improve from 0.02658\n",
      "\n",
      "Epoch 00024: val_loss did not improve from 0.02658\n",
      "\n",
      "Epoch 00025: val_loss did not improve from 0.02658\n",
      "\n",
      "Epoch 00026: val_loss did not improve from 0.02658\n",
      "\n",
      "Epoch 00027: val_loss did not improve from 0.02658\n",
      "\n",
      "Epoch 00028: val_loss did not improve from 0.02658\n",
      "\n",
      "Epoch 00029: val_loss did not improve from 0.02658\n"
     ]
    }
   ],
   "source": [
    "#모델의 실행 \n",
    "history = model.fit(X_train, Y_train, validation_data=(X_test, Y_test), epochs = 30, batch_size = 200, verbose =0,\n",
    "                   callbacks = [early_stopping_callback, checkpointer])"
   ]
  },
  {
   "cell_type": "code",
   "execution_count": 15,
   "metadata": {},
   "outputs": [
    {
     "name": "stdout",
     "output_type": "stream",
     "text": [
      "10000/10000 [==============================] - 2s 197us/step\n",
      "\n",
      " Test Accuracy: 0.9927\n"
     ]
    }
   ],
   "source": [
    "#테스트 정확도 출력 \n",
    "print(\"\\n Test Accuracy: %.4f\" % (model.evaluate(X_test, Y_test)[1]))"
   ]
  },
  {
   "cell_type": "code",
   "execution_count": 16,
   "metadata": {},
   "outputs": [],
   "source": [
    "#테스트셋의 오차 \n",
    "y_vloss = history.history['val_loss']"
   ]
  },
  {
   "cell_type": "code",
   "execution_count": 17,
   "metadata": {},
   "outputs": [],
   "source": [
    "#학습셋의 오차 \n",
    "y_loss = history.history['loss']"
   ]
  },
  {
   "cell_type": "code",
   "execution_count": 18,
   "metadata": {},
   "outputs": [
    {
     "data": {
      "image/png": "[encoded data removed]",
      "text/plain": [
       "<Figure size 432x288 with 1 Axes>"
      ]
     },
     "metadata": {
      "needs_background": "light"
     },
     "output_type": "display_data"
    }
   ],
   "source": [
    "#그래프로 표현\n",
    "x_len = np.arange(len(y_loss))\n",
    "plt.plot(x_len, y_vloss, marker = '.', c = 'red', label = 'Testset_loss')\n",
    "plt.plot(x_len, y_loss, marker = '.', c= 'blue', label = 'Trainset_loss')\n",
    "\n",
    "#그래프에 그리드를 주고 레이블을 표시\n",
    "plt.legend(loc = 'upper right')\n",
    "\n",
    "#plt.axis([0,20,0,0.35])\n",
    "plt.grid()\n",
    "plt.xlabel('epoch')\n",
    "plt.ylabel('loss')    \n",
    "plt.show()"
   ]
  },
  {
   "cell_type": "markdown",
   "metadata": {},
   "source": [
    "### 결론: Best Model은 Epoch 13, 정확도는 99.27%"
   ]
  }
 ],
 "metadata": {
  "kernelspec": {
   "display_name": "Python 3",
   "language": "python",
   "name": "python3"
  },
  "language_info": {
   "codemirror_mode": {
    "name": "ipython",
    "version": 3
   },
   "file_extension": ".py",
   "mimetype": "text/x-python",
   "name": "python",
   "nbconvert_exporter": "python",
   "pygments_lexer": "ipython3",
   "version": "3.7.3"
  }
 },
 "nbformat": 4,
 "nbformat_minor": 2
}
